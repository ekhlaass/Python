{
 "cells": [
  {
   "cell_type": "code",
   "execution_count": null,
   "id": "2719629b",
   "metadata": {},
   "outputs": [],
   "source": []
  },
  {
   "cell_type": "code",
   "execution_count": null,
   "id": "ff57dd13",
   "metadata": {},
   "outputs": [],
   "source": []
  },
  {
   "cell_type": "code",
   "execution_count": null,
   "id": "86963085",
   "metadata": {},
   "outputs": [],
   "source": []
  },
  {
   "cell_type": "code",
   "execution_count": null,
   "id": "93091506",
   "metadata": {},
   "outputs": [],
   "source": []
  },
  {
   "cell_type": "code",
   "execution_count": null,
   "id": "88b4a41e",
   "metadata": {},
   "outputs": [],
   "source": []
  },
  {
   "cell_type": "code",
   "execution_count": null,
   "id": "214d00f0",
   "metadata": {},
   "outputs": [],
   "source": []
  },
  {
   "cell_type": "code",
   "execution_count": 47,
   "id": "f4800a89",
   "metadata": {},
   "outputs": [],
   "source": [
    "def calculator(num1,num2):\n",
    "    touche= input(\"choose an operator (+,-,*,/)\") \n",
    "    while touche not in  [\"+\",\"-\",\"*\",\"/\"] :\n",
    "         touche= input(\"operator error, choose (+,-,*,/)\")\n",
    "    \n",
    "    if touche == \"+\":\n",
    "        return num1+num2\n",
    "    elif touche == \"-\":\n",
    "        return num1-num2\n",
    "    elif touche == \"*\":\n",
    "        return num1*num2\n",
    "    elif touche == \"/\":\n",
    "        while num2==0:\n",
    "            print(\"Error:division by 0!\")\n",
    "            num2=int(input(\"choose a value other than 0\"))\n",
    "        return num1/num2"
   ]
  },
  {
   "cell_type": "code",
   "execution_count": null,
   "id": "15f84c86",
   "metadata": {},
   "outputs": [],
   "source": []
  },
  {
   "cell_type": "code",
   "execution_count": 27,
   "id": "082c0143",
   "metadata": {},
   "outputs": [
    {
     "name": "stdout",
     "output_type": "stream",
     "text": [
      "choose an operator (+,-,*,/)+\n"
     ]
    },
    {
     "data": {
      "text/plain": [
       "15"
      ]
     },
     "execution_count": 27,
     "metadata": {},
     "output_type": "execute_result"
    }
   ],
   "source": [
    "calculator(5,10)"
   ]
  },
  {
   "cell_type": "code",
   "execution_count": 48,
   "id": "49eb9562",
   "metadata": {},
   "outputs": [
    {
     "name": "stdout",
     "output_type": "stream",
     "text": [
      "choose an operator (+,-,*,/)5\n",
      "operator error, choose (+,-,*,/)8\n",
      "operator error, choose (+,-,*,/)=\n",
      "operator error, choose (+,-,*,/)+\n"
     ]
    },
    {
     "data": {
      "text/plain": [
       "5"
      ]
     },
     "execution_count": 48,
     "metadata": {},
     "output_type": "execute_result"
    }
   ],
   "source": [
    "calculator(5,0)"
   ]
  },
  {
   "cell_type": "code",
   "execution_count": null,
   "id": "18f51661",
   "metadata": {},
   "outputs": [],
   "source": []
  }
 ],
 "metadata": {
  "kernelspec": {
   "display_name": "Python 3 (ipykernel)",
   "language": "python",
   "name": "python3"
  },
  "language_info": {
   "codemirror_mode": {
    "name": "ipython",
    "version": 3
   },
   "file_extension": ".py",
   "mimetype": "text/x-python",
   "name": "python",
   "nbconvert_exporter": "python",
   "pygments_lexer": "ipython3",
   "version": "3.10.9"
  }
 },
 "nbformat": 4,
 "nbformat_minor": 5
}
